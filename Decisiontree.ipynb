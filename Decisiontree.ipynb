{
  "nbformat": 4,
  "nbformat_minor": 0,
  "metadata": {
    "colab": {
      "provenance": []
    },
    "kernelspec": {
      "name": "python3",
      "display_name": "Python 3"
    },
    "language_info": {
      "name": "python"
    }
  },
  "cells": [
    {
      "cell_type": "code",
      "execution_count": 1,
      "metadata": {
        "id": "JiYf26mJMxCm"
      },
      "outputs": [],
      "source": [
        "import numpy as np\n",
        "import pandas as pd\n",
        "from sklearn.datasets import load_diabetes\n",
        "from sklearn.model_selection import train_test_split\n",
        "from sklearn.preprocessing import StandardScaler\n",
        "from sklearn.neighbors import KNeighborsRegressor\n",
        "from sklearn.metrics import mean_squared_error, r2_score\n",
        "import math"
      ]
    },
    {
      "cell_type": "code",
      "source": [
        "data=pd.read_csv('/content/Decision_tree_data.csv')"
      ],
      "metadata": {
        "id": "2F7jWCq7NUth"
      },
      "execution_count": null,
      "outputs": []
    },
    {
      "cell_type": "code",
      "source": [
        "import pandas as pd\n",
        "from sklearn.model_selection import train_test_split\n",
        "from sklearn.tree import DecisionTreeClassifier\n",
        "from sklearn.metrics import accuracy_score, classification_report, confusion_matrix\n"
      ],
      "metadata": {
        "id": "s6QeDKepNePh"
      },
      "execution_count": null,
      "outputs": []
    },
    {
      "cell_type": "code",
      "source": [
        "df = pd.DataFrame(data)"
      ],
      "metadata": {
        "id": "dpuPoFvaN2UV"
      },
      "execution_count": null,
      "outputs": []
    },
    {
      "cell_type": "code",
      "source": [],
      "metadata": {
        "id": "iGSORZM2O0hx"
      },
      "execution_count": null,
      "outputs": []
    },
    {
      "cell_type": "code",
      "source": [
        "import pandas as pd\n",
        "from sklearn.model_selection import train_test_split\n",
        "from sklearn.tree import DecisionTreeClassifier\n",
        "from sklearn import metrics\n",
        "from sklearn.preprocessing import LabelEncoder"
      ],
      "metadata": {
        "id": "Zqeu31V0Ve9V"
      },
      "execution_count": null,
      "outputs": []
    },
    {
      "cell_type": "code",
      "source": [
        "label_encoder = LabelEncoder()\n",
        "df['Age'] = label_encoder.fit_transform(df['Age'])\n",
        "df['Income'] = label_encoder.fit_transform(df['Income'])\n",
        "df['Student'] = label_encoder.fit_transform(df['Student'])\n",
        "df['Credit_Rating'] = label_encoder.fit_transform(df['Credit_Rating'])\n"
      ],
      "metadata": {
        "id": "SPW4zIsDPPD8"
      },
      "execution_count": null,
      "outputs": []
    },
    {
      "cell_type": "code",
      "source": [
        "X = df[['Age', 'Income', 'Student', 'Credit_Rating']]\n",
        "y = df['Buys_Computer']"
      ],
      "metadata": {
        "id": "bdO5V2PUV5Pe"
      },
      "execution_count": null,
      "outputs": []
    },
    {
      "cell_type": "code",
      "source": [
        "y=label_encoder.fit_transform(y)\n",
        "X_train, X_test, y_train, y_test = train_test_split(X, y, test_size=0.2, random_state=42)\n",
        "clf = DecisionTreeClassifier(criterion='entropy', random_state=42)\n",
        "clf.fit(X_train, y_train)\n",
        "y_pred = clf.predict(X_test)\n",
        "print(\"Accuracy:\", metrics.accuracy_score(y_test, y_pred))"
      ],
      "metadata": {
        "colab": {
          "base_uri": "https://localhost:8080/"
        },
        "id": "M0cr3RuQV9m_",
        "outputId": "22344702-6550-48ba-9554-de58ef368b57"
      },
      "execution_count": null,
      "outputs": [
        {
          "output_type": "stream",
          "name": "stdout",
          "text": [
            "Accuracy: 1.0\n"
          ]
        }
      ]
    },
    {
      "cell_type": "code",
      "source": [
        "from sklearn.tree import plot_tree\n",
        "import matplotlib.pyplot as plt"
      ],
      "metadata": {
        "id": "ghNbn4rqWY7f"
      },
      "execution_count": null,
      "outputs": []
    },
    {
      "cell_type": "code",
      "source": [
        "def entropy(target_col):\n",
        "    elements, counts = np.unique(target_col, return_counts=True)\n",
        "    entropy_value = np.sum([(-counts[i]/np.sum(counts)) * np.log2(counts[i]/np.sum(counts)) for i in range(len(elements))])\n",
        "    return entropy_value"
      ],
      "metadata": {
        "id": "ZJwTf9I1WaAq"
      },
      "execution_count": null,
      "outputs": []
    },
    {
      "cell_type": "code",
      "source": [
        "def information_gain(data, split_attribute_name, target_name=\"buying_computers\"):\n",
        "  total_entropy = entropy(data[target_name])\n",
        "  vals, counts = np.unique(data[split_attribute_name], return_counts=True)\n",
        "  weighted_entropy = np.sum([(counts[i]/np.sum(counts)) * entropy(data.where(data[split_attribute_name] == vals[i]).dropna()[target_name]) for i in range(len(vals))])\n",
        "  information_gain_value = total_entropy - weighted_entropy\n",
        "  return information_gain_value\n"
      ],
      "metadata": {
        "id": "oQojvBHsWs2T"
      },
      "execution_count": null,
      "outputs": []
    },
    {
      "cell_type": "code",
      "source": [
        "total_entropy = entropy(df['Buys_Computer'])\n",
        "print(f\"Total Entropy of 'Buys_Computer': {total_entropy}\\n\")\n",
        "total_entropy = entropy(df['Age'])\n",
        "print(f\"Total Entropy of 'Age': {total_entropy}\\n\")\n",
        "total_entropy=entropy(df['Income'])\n",
        "print(f\"Total Entropy of 'Income': {total_entropy}\\n\")\n",
        "total_entropy=entropy(df['Student'])\n",
        "print(f\"Total Entropy of 'Student': {total_entropy}\\n\")\n",
        "total_entropy=entropy(df['Credit_Rating'])"
      ],
      "metadata": {
        "colab": {
          "base_uri": "https://localhost:8080/"
        },
        "id": "9JzThVBxXQwe",
        "outputId": "4d18128b-1071-46e6-9541-8fd97a96772d"
      },
      "execution_count": null,
      "outputs": [
        {
          "output_type": "stream",
          "name": "stdout",
          "text": [
            "Total Entropy of 'Buys_Computer': 0.9402859586706311\n",
            "\n",
            "Total Entropy of 'Age': 1.5774062828523454\n",
            "\n",
            "Total Entropy of 'Income': 1.5566567074628228\n",
            "\n",
            "Total Entropy of 'Student': 1.0\n",
            "\n"
          ]
        }
      ]
    },
    {
      "cell_type": "code",
      "source": [
        "def entropy(target_col):\n",
        "    elements, counts = np.unique(target_col, return_counts=True)\n",
        "    entropy_value = 0\n",
        "    for i in range(len(elements)):\n",
        "        prob = counts[i] / np.sum(counts)\n",
        "        entropy_value += -prob * math.log2(prob)\n",
        "    return entropy_value"
      ],
      "metadata": {
        "id": "eHoTAueQYP9Q"
      },
      "execution_count": null,
      "outputs": []
    },
    {
      "cell_type": "code",
      "source": [
        "#infogain\n",
        "def info_gain(data, split_attribute_name, target_name=\"Buys_Computer\"):\n",
        "    total_entropy = entropy(data[target_name])\n",
        "    values, counts = np.unique(data[split_attribute_name], return_counts=True)\n",
        "    weighted_entropy = 0\n",
        "    for i in range(len(values)):\n",
        "        subset = data[data[split_attribute_name] == values[i]]\n",
        "        subset_entropy = entropy(subset[target_name])\n",
        "        weighted_entropy += (counts[i] / np.sum(counts)) * subset_entropy\n",
        "    return total_entropy - weighted_entropy"
      ],
      "metadata": {
        "id": "IG6xbcWIYYfg"
      },
      "execution_count": null,
      "outputs": []
    },
    {
      "cell_type": "code",
      "source": [
        "#ID3\n",
        "def id3(data, features, target_name=\"Buys_Computer\"):\n",
        "    if len(np.unique(data[target_name])) == 1:\n",
        "        return np.unique(data[target_name])[0]\n",
        "    elif len(features) == 0:\n",
        "        return data[target_name].mode()[0]\n",
        "\n",
        "    else:\n",
        "        # Calculate the information gain for each feature\n",
        "        gains = [info_gain(data, feature, target_name) for feature in features]\n",
        "        best_feature_index = np.argmax(gains)\n",
        "        best_feature = features[best_feature_index]\n",
        "\n",
        "        # Create a tree node for the best feature\n",
        "        tree = {best_feature: {}}\n",
        "\n",
        "        # Remove the best feature from the list of features\n",
        "        features = [f for f in features if f != best_feature]\n",
        "\n",
        "        # Split the dataset based on the best feature\n",
        "        for value in np.unique(data[best_feature]):\n",
        "            subset = data[data[best_feature] == value]\n",
        "            subtree = id3(subset, features, target_name)\n",
        "            tree[best_feature][value] = subtree\n",
        "\n",
        "        return tree\n"
      ],
      "metadata": {
        "id": "CYmqT6VrYfZN"
      },
      "execution_count": null,
      "outputs": []
    },
    {
      "cell_type": "code",
      "source": [
        "features = list(df.columns)\n",
        "features.remove('Buys_Computer')\n",
        "\n",
        "# Build the decision tree\n",
        "decision_tree = id3(df, features)\n",
        "\n",
        "# Output the decision tree\n",
        "print(\"Decision Tree:\")\n",
        "print(decision_tree)"
      ],
      "metadata": {
        "colab": {
          "base_uri": "https://localhost:8080/"
        },
        "id": "XEl-_gDvYjSA",
        "outputId": "20997b12-f124-4621-bc46-c421b502751a"
      },
      "execution_count": null,
      "outputs": [
        {
          "output_type": "stream",
          "name": "stdout",
          "text": [
            "Decision Tree:\n",
            "{'Age': {0: 'Yes', 1: {'Student': {0: 'No', 1: 'Yes'}}, 2: {'Credit_Rating': {0: 'No', 1: 'Yes'}}}}\n"
          ]
        }
      ]
    }
  ]
}