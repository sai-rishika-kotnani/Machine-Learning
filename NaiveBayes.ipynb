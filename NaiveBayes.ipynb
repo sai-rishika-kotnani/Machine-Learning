{
  "nbformat": 4,
  "nbformat_minor": 0,
  "metadata": {
    "colab": {
      "provenance": []
    },
    "kernelspec": {
      "name": "python3",
      "display_name": "Python 3"
    },
    "language_info": {
      "name": "python"
    }
  },
  "cells": [
    {
      "cell_type": "code",
      "source": [
        "import pandas as pd\n",
        "data = {\n",
        "    \"Outlook\": [\"sunny\", \"sunny\", \"overcast\", \"rain\", \"rain\", \"rain\", \"overcast\", \"sunny\", \"sunny\", \"rain\", \"sunny\", \"overcast\", \"overcast\", \"rain\"],\n",
        "    \"Temperature\": [\"hot\", \"hot\", \"hot\", \"mild\", \"cool\", \"cool\", \"cool\", \"mild\", \"cool\", \"mild\", \"mild\", \"mild\", \"hot\", \"mild\"],\n",
        "    \"Humidity\": [\"high\", \"high\", \"high\", \"high\", \"normal\", \"normal\", \"normal\", \"high\", \"normal\", \"normal\", \"normal\", \"high\", \"normal\", \"high\"],\n",
        "    \"Windy\": [\"weak\", \"strong\", \"weak\", \"weak\", \"weak\", \"strong\", \"strong\", \"weak\", \"weak\", \"weak\", \"strong\", \"strong\", \"weak\", \"strong\"],\n",
        "    \"Class\": [\"No\", \"No\", \"Yes\", \"Yes\", \"Yes\", \"No\", \"Yes\", \"No\", \"Yes\", \"Yes\", \"Yes\", \"Yes\", \"Yes\", \"No\"]\n",
        "}\n",
        "df = pd.DataFrame(data)\n",
        "\n"
      ],
      "metadata": {
        "id": "_TyJQyXzlBZt"
      },
      "execution_count": 1,
      "outputs": []
    },
    {
      "cell_type": "code",
      "source": [
        "total_instances = df.shape[0]\n",
        "\n",
        "# Count instances for each class\n",
        "count_yes = df[df['Class'] == 'Yes'].shape[0]\n",
        "count_no = df[df['Class'] == 'No'].shape[0]\n",
        "\n",
        "# Calculate probabilities\n",
        "prob_yes = count_yes / total_instances\n",
        "prob_no = count_no / total_instances\n",
        "print(f\"Total Probability of Playing Tennis (Yes): {prob_yes:.4f}\")\n",
        "print(f\"Total Probability of Not Playing Tennis (No): {prob_no:.4f}\")"
      ],
      "metadata": {
        "colab": {
          "base_uri": "https://localhost:8080/"
        },
        "id": "eZbaTQXqmyqS",
        "outputId": "a21612ee-0299-4bbf-c0cb-5231d438a52c"
      },
      "execution_count": 2,
      "outputs": [
        {
          "output_type": "stream",
          "name": "stdout",
          "text": [
            "Total Probability of Playing Tennis (Yes): 0.6429\n",
            "Total Probability of Not Playing Tennis (No): 0.3571\n"
          ]
        }
      ]
    },
    {
      "cell_type": "code",
      "source": [
        "yes_count = df[df['Class'] == 'Yes'].shape[0]\n",
        "no_count = df[df['Class'] == 'No'].shape[0]\n",
        "total_count = df.shape[0]\n",
        "\n",
        "print(f\"Total Yes (Play Tennis): {yes_count}\")\n",
        "print(f\"Total No (Do Not Play Tennis): {no_count}\")\n",
        "print()"
      ],
      "metadata": {
        "colab": {
          "base_uri": "https://localhost:8080/"
        },
        "id": "5-SdeZxOm-JJ",
        "outputId": "6db37d19-f100-4d91-f0c5-841c3458be5e"
      },
      "execution_count": 3,
      "outputs": [
        {
          "output_type": "stream",
          "name": "stdout",
          "text": [
            "Total Yes (Play Tennis): 9\n",
            "Total No (Do Not Play Tennis): 5\n",
            "\n"
          ]
        }
      ]
    },
    {
      "cell_type": "code",
      "source": [
        "def calculate_probabilities(feature):\n",
        "    probabilities = {}\n",
        "\n",
        "    for value in df[feature].unique():\n",
        "        yes_given_value = df[(df[feature] == value) & (df['Class'] == 'Yes')].shape[0] / yes_count\n",
        "        no_given_value = df[(df[feature] == value) & (df['Class'] == 'No')].shape[0] / no_count\n",
        "        probabilities[value] = {\n",
        "            'P(Yes | {})'.format(value): yes_given_value,\n",
        "            'P(No | {})'.format(value): no_given_value\n",
        "        }\n",
        "\n",
        "    return probabilities\n",
        "outlook_probs = calculate_probabilities('Outlook')\n",
        "temperature_probs = calculate_probabilities('Temperature')\n",
        "humidity_probs = calculate_probabilities('Humidity')\n",
        "windy_probs = calculate_probabilities('Windy')"
      ],
      "metadata": {
        "id": "CUBz7dW9nJ9R"
      },
      "execution_count": 4,
      "outputs": []
    },
    {
      "cell_type": "code",
      "source": [
        "print(\"Outlook probabilities:\")\n",
        "for value, probs in outlook_probs.items():\n",
        "    print(f\"{value}: {probs}\")\n",
        "print()\n"
      ],
      "metadata": {
        "colab": {
          "base_uri": "https://localhost:8080/"
        },
        "id": "KbjNt08CnLrI",
        "outputId": "4b9cbffc-a83c-468c-d0ce-8bc798fbeca2"
      },
      "execution_count": 5,
      "outputs": [
        {
          "output_type": "stream",
          "name": "stdout",
          "text": [
            "Outlook probabilities:\n",
            "sunny: {'P(Yes | sunny)': 0.2222222222222222, 'P(No | sunny)': 0.6}\n",
            "overcast: {'P(Yes | overcast)': 0.4444444444444444, 'P(No | overcast)': 0.0}\n",
            "rain: {'P(Yes | rain)': 0.3333333333333333, 'P(No | rain)': 0.4}\n",
            "\n"
          ]
        }
      ]
    },
    {
      "cell_type": "code",
      "source": [
        "print(\"Temperature probabilities:\")\n",
        "for value, probs in temperature_probs.items():\n",
        "    print(f\"{value}: {probs}\")\n",
        "print()\n"
      ],
      "metadata": {
        "colab": {
          "base_uri": "https://localhost:8080/"
        },
        "id": "IsjAXytgnQOO",
        "outputId": "524fd214-b63b-4dca-f249-e220e8e339b6"
      },
      "execution_count": 6,
      "outputs": [
        {
          "output_type": "stream",
          "name": "stdout",
          "text": [
            "Temperature probabilities:\n",
            "hot: {'P(Yes | hot)': 0.2222222222222222, 'P(No | hot)': 0.4}\n",
            "mild: {'P(Yes | mild)': 0.4444444444444444, 'P(No | mild)': 0.4}\n",
            "cool: {'P(Yes | cool)': 0.3333333333333333, 'P(No | cool)': 0.2}\n",
            "\n"
          ]
        }
      ]
    },
    {
      "cell_type": "code",
      "source": [
        "print(\"Humidity probabilities:\")\n",
        "for value, probs in humidity_probs.items():\n",
        "    print(f\"{value}: {probs}\")\n",
        "print()\n"
      ],
      "metadata": {
        "colab": {
          "base_uri": "https://localhost:8080/"
        },
        "id": "Jxl7qOUbnT6q",
        "outputId": "8976ffb2-e4c2-4f09-c4da-59cb5fd5381f"
      },
      "execution_count": 7,
      "outputs": [
        {
          "output_type": "stream",
          "name": "stdout",
          "text": [
            "Humidity probabilities:\n",
            "high: {'P(Yes | high)': 0.3333333333333333, 'P(No | high)': 0.8}\n",
            "normal: {'P(Yes | normal)': 0.6666666666666666, 'P(No | normal)': 0.2}\n",
            "\n"
          ]
        }
      ]
    },
    {
      "cell_type": "code",
      "source": [
        "print(\"Windy probabilities:\")\n",
        "for value, probs in windy_probs.items():\n",
        "    print(f\"{value}: {probs}\")\n",
        "print()"
      ],
      "metadata": {
        "colab": {
          "base_uri": "https://localhost:8080/"
        },
        "id": "WYDs6LSmnX0c",
        "outputId": "de0f8900-6bed-47c8-fee0-44bbe69a3c51"
      },
      "execution_count": 8,
      "outputs": [
        {
          "output_type": "stream",
          "name": "stdout",
          "text": [
            "Windy probabilities:\n",
            "weak: {'P(Yes | weak)': 0.6666666666666666, 'P(No | weak)': 0.4}\n",
            "strong: {'P(Yes | strong)': 0.3333333333333333, 'P(No | strong)': 0.6}\n",
            "\n"
          ]
        }
      ]
    },
    {
      "cell_type": "code",
      "source": [
        "total = df.shape[0]\n",
        "yes_count = df[df['Class'] == 'Yes'].shape[0]\n",
        "no_count = df[df['Class'] == 'No'].shape[0]\n",
        "\n",
        "p_yes = yes_count / total\n",
        "p_no = no_count / total\n"
      ],
      "metadata": {
        "id": "NjaQ47RdlwhB"
      },
      "execution_count": 9,
      "outputs": []
    },
    {
      "cell_type": "code",
      "source": [
        "def conditional_probability(feature, value, target_class):\n",
        "    total_class = df[df['Class'] == target_class].shape[0]\n",
        "    feature_class_count = df[(df[feature] == value) & (df['Class'] == target_class)].shape[0]\n",
        "    return feature_class_count / total_class\n",
        "outlook = 'sunny'\n",
        "temperature = 'cool'\n",
        "humidity = 'high'\n",
        "windy = 'strong'\n",
        "\n",
        "# Calculate conditional probabilities for each feature given Yes\n",
        "p_sunny_given_yes = conditional_probability('Outlook', outlook, 'Yes')\n",
        "p_cool_given_yes = conditional_probability('Temperature', temperature, 'Yes')\n",
        "p_high_given_yes = conditional_probability('Humidity', humidity, 'Yes')\n",
        "p_strong_given_yes = conditional_probability('Windy', windy, 'Yes')\n",
        "# Calculate conditional probabilities for each feature given No\n",
        "p_sunny_given_no = conditional_probability('Outlook', outlook, 'No')\n",
        "p_cool_given_no = conditional_probability('Temperature', temperature, 'No')\n",
        "p_high_given_no = conditional_probability('Humidity', humidity, 'No')\n",
        "p_strong_given_no = conditional_probability('Windy', windy, 'No')\n",
        "\n",
        "\n",
        "# Calculate posterior probabilities for Yes and No using Bayes' Theorem\n",
        "p_yes_given_conditions = (p_yes * p_sunny_given_yes * p_cool_given_yes * p_high_given_yes * p_strong_given_yes)\n",
        "p_no_given_conditions = (p_no * p_sunny_given_no * p_cool_given_no * p_high_given_no * p_strong_given_no)\n",
        "total_prob = p_yes_given_conditions + p_no_given_conditions\n",
        "p_yes_final = p_yes_given_conditions / total_prob\n",
        "p_no_final = p_no_given_conditions / total_prob\n",
        "\n"
      ],
      "metadata": {
        "id": "i5UAc2ZLnnOa"
      },
      "execution_count": 10,
      "outputs": []
    },
    {
      "cell_type": "code",
      "source": [
        "print(f\"Probability of playing tennis (Yes) given the conditions: {p_yes_final:.4f}\")\n",
        "print(f\"Probability of not playing tennis (No) given the conditions: {p_no_final:.4f}\")"
      ],
      "metadata": {
        "colab": {
          "base_uri": "https://localhost:8080/"
        },
        "id": "s2pmdOuUoC3a",
        "outputId": "15f009fa-751c-4900-ac91-1b3fb736b25f"
      },
      "execution_count": 11,
      "outputs": [
        {
          "output_type": "stream",
          "name": "stdout",
          "text": [
            "Probability of playing tennis (Yes) given the conditions: 0.2046\n",
            "Probability of not playing tennis (No) given the conditions: 0.7954\n"
          ]
        }
      ]
    },
    {
      "cell_type": "code",
      "source": [
        "if p_yes_final > p_no_final:\n",
        "    print(\"Prediction: Play Tennis\")\n",
        "else:\n",
        "    print(\"Prediction: Do Not Play Tennis\")"
      ],
      "metadata": {
        "colab": {
          "base_uri": "https://localhost:8080/"
        },
        "id": "d-8VB6-boLZs",
        "outputId": "019829c6-bb23-43b1-d55e-e9b5c8e023b7"
      },
      "execution_count": 12,
      "outputs": [
        {
          "output_type": "stream",
          "name": "stdout",
          "text": [
            "Prediction: Do Not Play Tennis\n"
          ]
        }
      ]
    }
  ]
}